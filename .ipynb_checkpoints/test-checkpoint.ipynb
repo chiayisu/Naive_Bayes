{
 "cells": [
  {
   "cell_type": "code",
   "execution_count": 1,
   "metadata": {},
   "outputs": [],
   "source": [
    "import Classifier\n",
    "import numpy as np"
   ]
  },
  {
   "cell_type": "code",
   "execution_count": 2,
   "metadata": {},
   "outputs": [
    {
     "name": "stdout",
     "output_type": "stream",
     "text": [
      "category =  [1 1]\n",
      "each probability =  [[0.33456733 0.66543267]\n",
      " [0.40066593 0.59933407]]\n"
     ]
    }
   ],
   "source": [
    "NB = Classifier.NaiveBayes()\n",
    "train_features = np.array([[1, 2, 2, 3], [1,3,2,1], [1, 2, 2, 3]])\n",
    "label = np.array([1, 1, 0])\n",
    "NB.train(features = train_features, label = label)\n",
    "features = np.array([[1,3,2,1], [1, 0, 0, 3]])\n",
    "cat, prob = NB.predict(features = features)\n",
    "print('category = ', cat)\n",
    "print('each probability = ', prob)"
   ]
  },
  {
   "cell_type": "code",
   "execution_count": null,
   "metadata": {},
   "outputs": [],
   "source": []
  }
 ],
 "metadata": {
  "kernelspec": {
   "display_name": "Python 3",
   "language": "python",
   "name": "python3"
  },
  "language_info": {
   "codemirror_mode": {
    "name": "ipython",
    "version": 3
   },
   "file_extension": ".py",
   "mimetype": "text/x-python",
   "name": "python",
   "nbconvert_exporter": "python",
   "pygments_lexer": "ipython3",
   "version": "3.6.4"
  }
 },
 "nbformat": 4,
 "nbformat_minor": 2
}
